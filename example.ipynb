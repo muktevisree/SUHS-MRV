{
 "cells": [
  {
   "cell_type": "markdown",
   "metadata": {},
   "source": [
    "# Example Notebook: SUHS-MRV Dataset Usage"
   ]
  },
  {
   "cell_type": "code",
   "execution_count": null,
   "metadata": {},
   "outputs": [],
   "source": [
    "import pandas as pd\n",
    "import matplotlib.pyplot as plt\n",
    "\n",
    "df = pd.read_csv('../data/uhs_daily_v1.0.csv')\n",
    "print(df.head())\n",
    "\n",
    "# Simple plot of H2 injection\n",
    "df.groupby('facility_id')['h2_injected_tonnes'].plot(legend=True)\n",
    "plt.xlabel('Record Index')\n",
    "plt.ylabel('H2 Injected (tonnes)')\n",
    "plt.title('Daily H2 Injection by Facility (Synthetic)')\n",
    "plt.show()"
   ]
  }
 ],
 "metadata": {
  "kernelspec": {
   "display_name": "Python 3",
   "language": "python",
   "name": "python3"
  },
  "language_info": {
   "name": "python",
   "version": "3.11"
  }
 },
 "nbformat": 4,
 "nbformat_minor": 5
}